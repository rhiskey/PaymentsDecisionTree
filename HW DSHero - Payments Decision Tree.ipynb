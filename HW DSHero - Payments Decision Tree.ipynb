{
 "cells": [
  {
   "cell_type": "markdown",
   "source": [
    "# Домашнее задание\n",
    "1. Создайте свою модель DecisionTreeClassifier() с нестандартными параметрами - передайте в скобки значения параметров\n",
    "```python\n",
    "max_depth: Any = None,\n",
    "max_leaf_nodes: Any = None,\n",
    "```\n",
    "2. Предскажите с помощью своей модели возможную транзакцию\n",
    "3. Cравните полученный результат с результатом выше.\n",
    "\n",
    "\n",
    "Что можно сказать о качестве предсказания?"
   ],
   "metadata": {
    "collapsed": false,
    "pycharm": {
     "name": "#%% md\n"
    }
   }
  },
  {
   "cell_type": "code",
   "execution_count": 1,
   "outputs": [],
   "source": [
    "import pandas as pd\n",
    "import numpy as np\n",
    "import plotly.express as px\n",
    "from sklearn.model_selection import train_test_split\n",
    "\n",
    "data = pd.read_csv(\"./archive/PS_20174392719_1491204439457_log.csv\")\n",
    "data[\"type\"] = data[\"type\"].map(\n",
    "    {\n",
    "        \"CASH_OUT\": 1,\n",
    "        \"PAYMENT\": 2,\n",
    "        \"CASH_IN\": 3,\n",
    "        \"TRANSFER\": 4,\n",
    "        \"DEBIT\": 5\n",
    "    }\n",
    ")\n",
    "\n",
    "data[\"isFraud\"] = data[\"isFraud\"].map(\n",
    "    {\n",
    "        0: \"No Fraud\",\n",
    "        1: \"Fraud\"\n",
    "    }\n",
    ")\n",
    "\n",
    "X = np.array(data[[\"type\", \"amount\", \"oldbalanceOrg\", \"newbalanceOrig\"]]) # Обучающие входные образцы данных\n",
    "y = np.array(data[[\"isFraud\"]]) # Целевые значения (метки классов)"
   ],
   "metadata": {
    "collapsed": false,
    "pycharm": {
     "name": "#%%\n"
    }
   }
  },
  {
   "cell_type": "markdown",
   "source": [
    "Создайте свое дерево для классификации"
   ],
   "metadata": {
    "collapsed": false,
    "pycharm": {
     "name": "#%% md\n"
    }
   }
  },
  {
   "cell_type": "code",
   "execution_count": 2,
   "outputs": [],
   "source": [
    "from sklearn.tree import DecisionTreeClassifier\n",
    "my_model = ___"
   ],
   "metadata": {
    "collapsed": false,
    "pycharm": {
     "name": "#%%\n"
    }
   }
  },
  {
   "cell_type": "markdown",
   "source": [
    "Постройте классификатор дерева решений на основе данных из обучающего набора (аналогично примеру)."
   ],
   "metadata": {
    "collapsed": false,
    "pycharm": {
     "name": "#%% md\n"
    }
   }
  },
  {
   "cell_type": "code",
   "execution_count": 3,
   "outputs": [
    {
     "ename": "AttributeError",
     "evalue": "'str' object has no attribute '___'",
     "output_type": "error",
     "traceback": [
      "\u001B[0;31m---------------------------------------------------------------------------\u001B[0m",
      "\u001B[0;31mAttributeError\u001B[0m                            Traceback (most recent call last)",
      "Input \u001B[0;32mIn [3]\u001B[0m, in \u001B[0;36m<cell line: 2>\u001B[0;34m()\u001B[0m\n\u001B[1;32m      1\u001B[0m X1_train, X1_test, y1_train, y1_test \u001B[38;5;241m=\u001B[39m train_test_split(X, y, test_size\u001B[38;5;241m=\u001B[39m\u001B[38;5;241m0.10\u001B[39m, random_state\u001B[38;5;241m=\u001B[39m\u001B[38;5;241m12\u001B[39m)\n\u001B[0;32m----> 2\u001B[0m \u001B[43mmy_model\u001B[49m\u001B[38;5;241;43m.\u001B[39;49m\u001B[43m___\u001B[49m\n",
      "\u001B[0;31mAttributeError\u001B[0m: 'str' object has no attribute '___'"
     ]
    }
   ],
   "source": [
    "X1_train, X1_test, y1_train, y1_test = train_test_split(X, y, test_size=0.10, random_state=12)\n",
    "my_model.___"
   ],
   "metadata": {
    "collapsed": false,
    "pycharm": {
     "name": "#%%\n"
    }
   }
  },
  {
   "cell_type": "markdown",
   "source": [
    "Верните среднюю точность тестовых данных и соответствующих меток.\n",
    "В классификации с несколькими метками это точность подмножества, которая является жесткой метрикой, поскольку для каждой выборки требуется, чтобы каждый набор меток был правильно предсказан.\n",
    "(Используйте тестовую выборку и истинные метки)"
   ],
   "metadata": {
    "collapsed": false,
    "pycharm": {
     "name": "#%% md\n"
    }
   }
  },
  {
   "cell_type": "code",
   "execution_count": null,
   "outputs": [],
   "source": [
    "my_model.___"
   ],
   "metadata": {
    "collapsed": false,
    "pycharm": {
     "name": "#%%\n"
    }
   }
  },
  {
   "cell_type": "markdown",
   "source": [
    "Предскажите с помощью своей модели является ли транзакция мошеннической"
   ],
   "metadata": {
    "collapsed": false,
    "pycharm": {
     "name": "#%% md\n"
    }
   }
  },
  {
   "cell_type": "code",
   "execution_count": null,
   "outputs": [],
   "source": [
    "features_to_model = np.array([[4, 9000.60, 9000.60, 0.0]])\n",
    "predicted_transaction = ___\n"
   ],
   "metadata": {
    "collapsed": false,
    "pycharm": {
     "name": "#%%\n"
    }
   }
  }
 ],
 "metadata": {
  "kernelspec": {
   "display_name": "Python 3",
   "language": "python",
   "name": "python3"
  },
  "language_info": {
   "codemirror_mode": {
    "name": "ipython",
    "version": 2
   },
   "file_extension": ".py",
   "mimetype": "text/x-python",
   "name": "python",
   "nbconvert_exporter": "python",
   "pygments_lexer": "ipython2",
   "version": "2.7.6"
  }
 },
 "nbformat": 4,
 "nbformat_minor": 0
}